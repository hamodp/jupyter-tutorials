{
 "cells": [
  {
   "cell_type": "markdown",
   "id": "b7ddba36-2bf4-43f7-b6bc-d01f860ab765",
   "metadata": {},
   "source": [
    "# Python tutorials\n",
    "This project seeks to try and teach a lay person how to use python and try and prepare them for some of the daily tasks of programming or scripting.\n",
    "Python is a scripting language (ie is a language that is human readable and at the that the program is run (runtime) is interpreted from human readable to machine language. It is useful for programmers, software developers, data scientists and generally any one that has computer as a part of their job. It can help automate routine tasks and free up time for what really matters."
   ]
  },
  {
   "cell_type": "markdown",
   "id": "dbfe6683-b82f-4533-b955-b5b3161b1af4",
   "metadata": {},
   "source": [
    "## lesson 1 jupyter-notebooks\n",
    "This first lesson focuses on the tooling since I do not know the environment of who may run these commands it is taken as an unknown. This was written with the help of docker a tool used to run oci(open container initiative a fancy way to say a standard for industry for delivering software with a reliable platform) containers. The person that may run this will probably be using google colab to run this later."
   ]
  },
  {
   "cell_type": "markdown",
   "id": "b7808e64-4e30-4139-adbd-1d950e6497e2",
   "metadata": {},
   "source": [
    "### section 1 cells\n",
    "Cells are what we call these rectangles that are used run code, explain things and have raw text. This gives many ways to explain things present ideas that normal python does have as easy a job with. this cell is a markdown language meaning when symbols are used then when the cell is executed it will format. to execute a cell highlight it and press ctrl + enter to execute and remain focus on current cell or shift + enter to execute and proceed to the next cell"
   ]
  },
  {
   "cell_type": "raw",
   "id": "23a7e4c3-6da8-4c68-b416-b65f0c717e2f",
   "metadata": {},
   "source": [
    "This cell is raw text and when executed it will only show what was entered in"
   ]
  },
  {
   "cell_type": "code",
   "execution_count": 4,
   "id": "793c865b-2b13-48d3-a0d9-3527363fbb48",
   "metadata": {},
   "outputs": [
    {
     "name": "stdout",
     "output_type": "stream",
     "text": [
      "hello world!\n",
      "jovyan\n"
     ]
    }
   ],
   "source": [
    "# this cell is a code cell and will execute python\n",
    "print(\"hello world!\")\n"
   ]
  },
  {
   "cell_type": "code",
   "execution_count": 6,
   "id": "263e04e8-41a5-464c-898c-4ae6cdea66c6",
   "metadata": {},
   "outputs": [
    {
     "name": "stdout",
     "output_type": "stream",
     "text": [
      "hello world\n"
     ]
    }
   ],
   "source": [
    "# this cell is another code cell but shows that bash scripting can be used another scripting language a side \n",
    "# from python is only shown to let the reader know of the possibility of what can be done\n",
    "!echo hello world"
   ]
  },
  {
   "cell_type": "markdown",
   "id": "b6927ce0-bd25-43fe-be3c-818eee289814",
   "metadata": {},
   "source": [
    "navigating cells can be done by using the arrow keys to go up and down or j and k to navigate. \n",
    "shortcuts like this can be viewed from help and show keyboard shortcuts or pressing ctrl + shift + h. pressing enter will enter the cell for editing\n",
    "and can be exited with the escape key or by executing will exit too."
   ]
  },
  {
   "cell_type": "markdown",
   "id": "043e0021-8e4c-4aa0-8fd1-96f6cf2ddd5d",
   "metadata": {},
   "source": [
    "There are two modes with jupyter-notebooks command mode and edit mode. In command most short cuts are executed here and can be changed to edit\n",
    "mode by pressing enter or double clicking on a cell. In order to enter command mode press the escape key or click outside of the cell"
   ]
  },
  {
   "cell_type": "markdown",
   "id": "3dd96414-05f5-4dcf-a74d-38082287424d",
   "metadata": {},
   "source": [
    "An important menu item is Run -> Restart kernel and run all cells this will stop and restart cells if one gets stuck but it will execute in the order\n",
    "of the cells"
   ]
  },
  {
   "cell_type": "markdown",
   "id": "ad1321d5-297e-4b16-be8a-c429cfd765e7",
   "metadata": {},
   "source": [
    "## lesson 2 python\n",
    "This lesson focuses on basic programming concepts and provides examples that can be executed"
   ]
  },
  {
   "cell_type": "code",
   "execution_count": 2,
   "id": "98ab91c0-5996-4232-a1f3-080c5c96ca64",
   "metadata": {},
   "outputs": [
    {
     "name": "stdout",
     "output_type": "stream",
     "text": [
      "1\n",
      "hello\n",
      "2.2\n",
      "c\n",
      "b'43'\n"
     ]
    }
   ],
   "source": [
    "# variables come in many types and in python are loose typed meaning the variable does not need the type declared before hand\n",
    "# they can basically store anything you want in them and reassign them later\n",
    "variable = 1\n",
    "variable1 = \"hello\"\n",
    "variable2 = 2.2\n",
    "variable3 = 'c'\n",
    "variable4 = b'43'\n",
    "\n",
    "# print is a function used to output the variable given or object\n",
    "print(variable)\n",
    "print(variable1)\n",
    "print(variable2)\n",
    "print(variable3)\n",
    "print(variable4)"
   ]
  },
  {
   "cell_type": "code",
   "execution_count": 5,
   "id": "419c27d7-7d62-4fac-a0d9-4db34a47be74",
   "metadata": {},
   "outputs": [
    {
     "name": "stdout",
     "output_type": "stream",
     "text": [
      "4\n"
     ]
    }
   ],
   "source": [
    "# reassigning a variable sets the variable on the left hand side to what ever the right hand side evaluates to at the time the code gets\n",
    "# the line of code\n",
    "\n",
    "variable = variable + 1\n",
    "print(variable)"
   ]
  },
  {
   "cell_type": "code",
   "execution_count": 14,
   "id": "7096243d-a216-4ec7-864d-e62273862cd0",
   "metadata": {},
   "outputs": [
    {
     "name": "stdout",
     "output_type": "stream",
     "text": [
      "43\n"
     ]
    }
   ],
   "source": [
    "print(variable4.decode())"
   ]
  },
  {
   "cell_type": "code",
   "execution_count": null,
   "id": "9473a831-d189-4fd2-b6c9-3be97a6dbb78",
   "metadata": {},
   "outputs": [],
   "source": []
  }
 ],
 "metadata": {
  "kernelspec": {
   "display_name": "Python 3 (ipykernel)",
   "language": "python",
   "name": "python3"
  },
  "language_info": {
   "codemirror_mode": {
    "name": "ipython",
    "version": 3
   },
   "file_extension": ".py",
   "mimetype": "text/x-python",
   "name": "python",
   "nbconvert_exporter": "python",
   "pygments_lexer": "ipython3",
   "version": "3.11.6"
  }
 },
 "nbformat": 4,
 "nbformat_minor": 5
}
